{
  "nbformat": 4,
  "nbformat_minor": 0,
  "metadata": {
    "colab": {
      "name": "Untitled4.ipynb",
      "version": "0.3.2",
      "provenance": [],
      "collapsed_sections": [],
      "include_colab_link": true
    },
    "kernelspec": {
      "name": "python3",
      "display_name": "Python 3"
    }
  },
  "cells": [
    {
      "cell_type": "markdown",
      "metadata": {
        "id": "view-in-github",
        "colab_type": "text"
      },
      "source": [
        "[View in Colaboratory](https://colab.research.google.com/github/gpandu/TextClassification/blob/master/WordEmbeddings.ipynb)"
      ]
    },
    {
      "metadata": {
        "id": "j-thDoXb56JN",
        "colab_type": "code",
        "colab": {
          "resources": {
            "http://localhost:8080/nbextensions/google.colab/files.js": {
              "data": "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",
              "ok": true,
              "headers": [
                [
                  "content-type",
                  "application/javascript"
                ]
              ],
              "status": 200,
              "status_text": ""
            }
          },
          "base_uri": "https://localhost:8080/",
          "height": 109
        },
        "outputId": "a5a7a046-c76e-4c44-ccfa-de538c9d77f3"
      },
      "cell_type": "code",
      "source": [
        "# Keras\n",
        "from keras.preprocessing.text import Tokenizer\n",
        "from keras.preprocessing.sequence import pad_sequences\n",
        "from keras.models import Sequential\n",
        "from keras.layers import Dense, Flatten, LSTM, Conv1D, MaxPooling1D, Dropout, Activation\n",
        "from keras.layers.embeddings import Embedding\n",
        "## Plotly\n",
        "import plotly.offline as py\n",
        "import plotly.graph_objs as go\n",
        "py.init_notebook_mode(connected=True)\n",
        "from google.colab import files\n",
        "# Others\n",
        "import nltk\n",
        "import string\n",
        "import numpy as np\n",
        "import pandas as pd\n",
        "from nltk.corpus import stopwords\n",
        "import openpyxl\n",
        "import nltk\n",
        "import tensorflow as tf\n",
        "#nltk.download('stopwords')\n",
        "\n",
        "from sklearn.manifold import TSNE\n",
        "\n",
        "\n",
        "def fetchTrainingData():\n",
        "    wb = openpyxl.load_workbook('trainingSet.xlsx')\n",
        "    sheet = wb['Sheet1']\n",
        "    trainingData = []\n",
        "    titleData = []\n",
        "    labels = []\n",
        "    for i in range(2,37,1):\n",
        "        trainingData.append(sheet.cell(row=i, column=2).value + \" \" + sheet.cell(row=i, column=6).value)\n",
        "        titleData.append(sheet.cell(row=i, column=2).value)\n",
        "        labels.append(sheet.cell(row=i, column=4).value) \n",
        "    return trainingData, titleData, labels\n",
        "          \n",
        "  \n",
        "def hasNumbers(word):\n",
        "    return any(char.isdigit() for char in word)\n",
        "  \n",
        "  \n",
        "def clean_text(text):\n",
        "    \n",
        "    ## Remove puncuation\n",
        "    text = text.translate(string.punctuation)\n",
        "    \n",
        "    ## Convert words to lower case and split them\n",
        "    text = text.lower().split()\n",
        "    \n",
        "    ## Remove stop words\n",
        "    stops = set(stopwords.words(\"english\"))\n",
        "    text = [w for w in text if not w in stops and len(w) >= 3 and not hasNumbers(w)]\n",
        "    \n",
        "    text = \" \".join(text)\n",
        "    return text\n",
        "  \n",
        "def read_glove_vecs(glove_file):\n",
        "    with open(glove_file, 'r') as f:\n",
        "        words = set()\n",
        "        word_to_vec_map = {}\n",
        "        for line in f:\n",
        "            line = line.strip().split()\n",
        "            curr_word = line[0]\n",
        "            words.add(curr_word)\n",
        "            word_to_vec_map[curr_word] = np.array(line[1:], dtype=np.float64)\n",
        "        \n",
        "        i = 1\n",
        "        words_to_index = {}\n",
        "        index_to_words = {}\n",
        "        for w in sorted(words):\n",
        "            words_to_index[w] = i\n",
        "            index_to_words[i] = w\n",
        "            i = i + 1\n",
        "    return words_to_index, index_to_words, word_to_vec_map    \n",
        "\n",
        "uploaded = files.upload()\n",
        "descr_list,title_list,y_lables = fetchTrainingData()\n",
        "\n",
        "\n",
        "#words_to_index, index_to_words, word_to_vec_map = read_glove_vecs('glove_file')\n",
        "#labels = tf.one_hot(y_lables,5)\n",
        "train_text = []\n",
        "for text in descr_list:\n",
        "  train_text.append(clean_text(text))\n",
        "    \n",
        "\n",
        "vocabulary_size = 2000\n",
        "tokenizer = Tokenizer(num_words= vocabulary_size)\n",
        "tokenizer.fit_on_texts(train_text)\n",
        "sequences = tokenizer.texts_to_sequences(train_text)\n",
        "data = pad_sequences(sequences, maxlen=200)\n",
        "word_index = tokenizer.word_index\n",
        "print(word_index)\n",
        "print('Found %s unique tokens.' % len(word_index))\n",
        "print(sequences[3])  \n",
        "  \n",
        "#model = Sequential()\n",
        "#model.add(Embedding(20000, 50, input_length=100))\n",
        "#model.add(LSTM(100, dropout=0.2, recurrent_dropout=0.2))\n",
        "#model.add(Dense(1, activation='sigmoid'))\n",
        "#model.compile(loss='binary_crossentropy', optimizer='adam', metrics=['accuracy'])\n",
        "\n",
        "#model.fit(data, np.array(labels), validation_split=0.4, epochs=3)"
      ],
      "execution_count": 0,
      "outputs": [
        {
          "output_type": "display_data",
          "data": {
            "text/html": [
              "<script>requirejs.config({paths: { 'plotly': ['https://cdn.plot.ly/plotly-latest.min']},});if(!window.Plotly) {{require(['plotly'],function(plotly) {window.Plotly=plotly;});}}</script>"
            ],
            "text/plain": [
              "<IPython.core.display.HTML object>"
            ]
          },
          "metadata": {
            "tags": []
          }
        },
        {
          "output_type": "display_data",
          "data": {
            "text/html": [
              "\n",
              "     <input type=\"file\" id=\"files-bd55aff0-ab38-406d-bdce-c913554af4da\" name=\"files[]\" multiple disabled />\n",
              "     <output id=\"result-bd55aff0-ab38-406d-bdce-c913554af4da\">\n",
              "      Upload widget is only available when the cell has been executed in the\n",
              "      current browser session. Please rerun this cell to enable.\n",
              "      </output>\n",
              "      <script src=\"/nbextensions/google.colab/files.js\"></script> "
            ],
            "text/plain": [
              "<IPython.core.display.HTML object>"
            ]
          },
          "metadata": {
            "tags": []
          }
        },
        {
          "output_type": "stream",
          "text": [
            "{'report': 1, 'view': 2, 'infolet': 3, 'page': 4, 'profile': 5, 'displayed': 6, 'graph': 7, 'tile': 8, 'copy': 9, 'reports': 10, 'data': 11, 'column': 12, 'chart': 13, 'full': 14, 'user': 15, 'screen': 16, 'opened': 17, 'duplicate': 18, 'able': 19, 'card': 20, 'drill': 21, 'vertical': 22, 'grid': 23, 'mode': 24, 'type': 25, 'text': 26, 'copied': 27, 'deep': 28, 'open': 29, 'internal': 30, 'columns': 31, 'click': 32, 'working': 33, 'create': 34, 'link': 35, 'error': 36, 'shows': 37, 'color': 38, 'details': 39, 'option': 40, 'group': 41, 'duplicated': 42, 'run': 43, 'wizard': 44, 'message': 45, 'delete': 46, 'dynamic': 47, 'dashboard': 48, 'instance': 49, 'count': 50, 'third': 51, 'alignment': 52, 'issue': 53, 'one': 54, 'row': 55, 'list': 56, 'asset': 57, 'number': 58, 'showing': 59, 'crosstab': 60, 'manage': 61, 'title': 62, 'pfa': 63, 'version': 64, 'steps': 65, 'package': 66, 'graphs': 67, 'added': 68, 'axis': 69, 'see': 70, 'even': 71, 'background': 72, 'party': 73, 'opening': 74, 'value': 75, 'output': 76, 'records': 77, 'header': 78, 'drildown': 79, 'child': 80, 'parameter': 81, 'filter': 82, 'change': 83, 'si': 84, 'statistics': 85, 'order': 86, 'messages': 87, 'name': 88, 'log': 89, 'filters': 90, 'associated': 91, 'changed': 92, 'infolets': 93, 'time': 94, 'back': 95, 'shown': 96, 'tabular': 97, 'loss': 98, 'selected': 99, 'section': 100, 'refer': 101, 'attached': 102, 'issues': 103, 'clicking': 104, 'listener': 105, 'code': 106, 'boolean': 107, 'this': 108, 'displaying': 109, 'browser': 110, 'popout': 111, 'per': 112, 'show': 113, 'button': 114, 'wrapping': 115, 'proper': 116, 'portal': 117, 'configuration': 118, 'goes': 119, 'missing': 120, 'assigned': 121, 'users': 122, 'parent': 123, 'removed': 124, 'remove': 125, 'grc': 126, 'followed': 127, 'post': 128, 'top': 129, 'getting': 130, 'errors': 131, 'get': 132, 'deepcopy': 133, 'access': 134, 'aligned': 135, 'source': 136, 'level': 137, 'copying': 138, 'related': 139, 'smc': 140, 'sys': 141, 'also': 142, 'event': 143, 'values': 144, 'fields': 145, 'navigate': 146, 'save': 147, \"'use\": 148, 'shipping': 149, 'target': 150, 'coming': 151, 'loading': 152, 'library': 153, 'confirmation': 154, 'deleting': 155, 'tool': 156, 'tips': 157, 'patches': 158, 'opens': 159, 'unable': 160, 'find': 161, 'screenshot': 162, 'workflow': 163, 'ground': 164, 'grey': 165, 'coded': 166, 'forms': 167, 'modal': 168, 'window': 169, \"'tile\": 170, \"view'\": 171, 'disable': 172, 'sorted': 173, 'tooltip': 174, 'taking': 175, 'kindly': 176, 'additional': 177, \"documents'\": 178, 'wrap': 179, 'correctly': 180, 'created': 181, 'fit': 182, 'requirement': 183, 'action': 184, 'popup': 185, 'moves': 186, 'frame': 187, 'record': 188, 'performing': 189, 'infoletgrp': 190, 'means': 191, 'datasource': 192, 'hence': 193, 'wil': 194, 'happen': 195, 'existing': 196, 'listed': 197, 'feature': 198, 'if': 199, 'enhancement': 200, 's': 201, 'achieve': 202, 'that': 203, 'pv': 204, 'running': 205, 'said': 206, 'changes': 207, \"i'm\": 208, 'observed': 209, 'seq': 210, 'boundaries': 211, 'execute': 212, 'query': 213, 'available': 214, 'id': 215, 'desc': 216, 'doesnot': 217, 'publish': 218, 'i': 219, 'e': 220, 'listing': 221, 'appropriate': 222, 'dulicate': 223, 'duplication': 224, 'instead': 225, 'you': 226, 'toggle': 227, 'greyed': 228, 'out': 229, 'enabled': 230, 'two': 231, 'ex': 232, 'enabling': 233, 'following': 234, 'failed': 235, 'associating': 236, 'client': 237, 'groups': 238, 'cpied': 239, 'still': 240, 'might': 241, 'effect': 242, 'impact': 243, 'tries': 244, 'associate': 245, 'upstream': 246, 'scenario': 247, 'handled': 248, 'nextrelease': 249, 'cross': 250, 'tab': 251, 'business': 252, 'line': 253, 'under': 254, 'drop': 255, 'hidden': 256, 'audit': 257, 'overview': 258, 'choose': 259, 'preference': 260, 'deleted': 261, 'validations': 262, 'changing': 263, 'edit': 264, 'observe': 265, \"series'\": 266, 'validation': 267, 'restricted': 268, 'creating': 269, 'modified': 270, 'dashborad': 271, 'via': 272, 'installer': 273, 'iup': 274, 'named': 275, 'gain': 276, 'configured': 277, 'three': 278, 'blank': 279, 'adding': 280, 'selecting': 281, 'object': 282, 'control': 283, 'class': 284, 'etc': 285, 'y': 286, 'keep': 287, 'et': 288, 'display': 289, 'usually': 290, 'counts': 291, 'critical': 292, 'drilldown': 293, 'navigated': 294, 'views': 295, 'present': 296, 'video': 297, 'properly': 298, 'please': 299, 'login': 300, 'tpm': 301, 'poland': 302, 'hover': 303, 'clicked': 304, 'multiple': 305, 'poped': 306, 'middle': 307, 'disabled': 308, 'another': 309, 'popped': 310, 'first': 311, \"id's\": 312, 'certain': 313, 'gets': 314, 'apps': 315, 'ea': 316, 'fine': 317, 'equal': 318, 'booked': 319, 'actual': 320, 'resource': 321, \"'no\": 322, 'items': 323, \"found'\": 324, 'parties': 325, 'results': 326, 'attachment': 327, 'different': 328, 'download': 329, 'document': 330, 'whereas': 331, 'information': 332, 'performance': 333, 'load': 334, 'plab': 335, 'make': 336, 'modifications': 337, 'add': 338, 'analyze': 339, 'given': 340, 'below': 341, \"'additional\": 342, \"column'\": 343, \"'policies\": 344, \"'approve'\": 345, \"'my\": 346, 'approved': 347, 'check': 348, 'shot': 349, 'provided': 350, 'expected': 351, 'label': 352, 'names': 353, 'search': 354, 'airbus': 355, \"label's\": 356, 'upgrading': 357, 'platform': 358, 'patch': 359, 'visible': 360}\n",
            "Found 360 unique tokens.\n",
            "[79, 118, 119, 120, 189, 9, 1, 3, 41, 121, 122, 34, 1, 79, 190, 1, 121, 122, 191, 56, 192, 18, 123, 1, 80, 42, 1, 80, 1, 119, 120, 193, 79, 194, 195, 196, 80, 1, 118, 197, 123, 1]\n"
          ],
          "name": "stdout"
        }
      ]
    },
    {
      "metadata": {
        "id": "tpXAUWmNonAf",
        "colab_type": "code",
        "colab": {
          "base_uri": "https://localhost:8080/",
          "height": 34
        },
        "outputId": "11aeb0fb-8a86-4e10-e7bf-f3e989f4c4cb"
      },
      "cell_type": "code",
      "source": [
        "aa = '123a'\n",
        "print(aa.isnumeric())"
      ],
      "execution_count": 0,
      "outputs": [
        {
          "output_type": "stream",
          "text": [
            "False\n"
          ],
          "name": "stdout"
        }
      ]
    },
    {
      "metadata": {
        "id": "jFGljhJAIW9C",
        "colab_type": "code",
        "colab": {
          "base_uri": "https://localhost:8080/",
          "height": 272
        },
        "outputId": "2713ef6d-71c9-4b41-c1d4-452a47be43ea"
      },
      "cell_type": "code",
      "source": [
        "!pip install openpyxl"
      ],
      "execution_count": 0,
      "outputs": [
        {
          "output_type": "stream",
          "text": [
            "Collecting openpyxl\n",
            "\u001b[?25l  Downloading https://files.pythonhosted.org/packages/0d/75/d962c445610131dd3e2885e7e1fc9432848dc85a131fbdfa8b5b51dafce7/openpyxl-2.5.6.tar.gz (173kB)\n",
            "\u001b[K    100% |████████████████████████████████| 174kB 6.2MB/s \n",
            "\u001b[?25hCollecting jdcal (from openpyxl)\n",
            "  Downloading https://files.pythonhosted.org/packages/a0/38/dcf83532480f25284f3ef13f8ed63e03c58a65c9d3ba2a6a894ed9497207/jdcal-1.4-py2.py3-none-any.whl\n",
            "Collecting et_xmlfile (from openpyxl)\n",
            "  Downloading https://files.pythonhosted.org/packages/22/28/a99c42aea746e18382ad9fb36f64c1c1f04216f41797f2f0fa567da11388/et_xmlfile-1.0.1.tar.gz\n",
            "Building wheels for collected packages: openpyxl, et-xmlfile\n",
            "  Running setup.py bdist_wheel for openpyxl ... \u001b[?25l-\b \b\\\b \b|\b \bdone\n",
            "\u001b[?25h  Stored in directory: /root/.cache/pip/wheels/da/1e/75/c51617c77bfac84ec947d84572c4dafba3c40b7b678ffb8bbe\n",
            "  Running setup.py bdist_wheel for et-xmlfile ... \u001b[?25l-\b \bdone\n",
            "\u001b[?25h  Stored in directory: /root/.cache/pip/wheels/2a/77/35/0da0965a057698121fc7d8c5a7a9955cdbfb3cc4e2423cad39\n",
            "Successfully built openpyxl et-xmlfile\n",
            "Installing collected packages: jdcal, et-xmlfile, openpyxl\n",
            "Successfully installed et-xmlfile-1.0.1 jdcal-1.4 openpyxl-2.5.6\n"
          ],
          "name": "stdout"
        }
      ]
    }
  ]
}